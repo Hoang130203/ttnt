{
 "cells": [
  {
   "cell_type": "code",
   "execution_count": 1,
   "id": "052064f4-c98a-4f1d-86a2-3a81670ff3ee",
   "metadata": {},
   "outputs": [
    {
     "name": "stdout",
     "output_type": "stream",
     "text": [
      "pygame 2.5.2 (SDL 2.28.3, Python 3.11.0)\n",
      "Hello from the pygame community. https://www.pygame.org/contribute.html\n"
     ]
    }
   ],
   "source": [
    "import pygame,sys\n",
    "from pygame.locals import *"
   ]
  },
  {
   "cell_type": "code",
   "execution_count": 2,
   "id": "6ef02592-82d6-4950-840b-d427bd038bcf",
   "metadata": {},
   "outputs": [],
   "source": [
    "pygame.init()\n",
    "DISPLAYSURF=pygame.display.set_mode((500,400))\n",
    "pygame.display.set_caption('hello')"
   ]
  },
  {
   "cell_type": "code",
   "execution_count": 3,
   "id": "4093412a-75b6-4a7e-85a5-eb244a004f29",
   "metadata": {},
   "outputs": [],
   "source": [
    "#color\n",
    "GRAY=(128,128,128)\n",
    "NAVYBLUE=(60,60,100)\n",
    "WHITE=(255,255,255)\n",
    "RED=(255,0,0)\n",
    "GREEN=(0,255,0)\n",
    "BLUE=(0,0,255)\n",
    "YELLOW=(255,255,0)\n",
    "ORANGE=(255,128,0)\n",
    "PURPLE=(255,0,255)\n",
    "CYAN=(0,255,255)"
   ]
  },
  {
   "cell_type": "code",
   "execution_count": 4,
   "id": "a6b498e7-9d64-4d16-bd3f-7701d13edca5",
   "metadata": {},
   "outputs": [
    {
     "name": "stdout",
     "output_type": "stream",
     "text": [
      "<rect(50, 50, 100, 100)>\n"
     ]
    }
   ],
   "source": [
    "#rect object \n",
    "Myrect=pygame.Rect(50,50,100,100)\n",
    "print(Myrect)"
   ]
  },
  {
   "cell_type": "code",
   "execution_count": 5,
   "id": "7451c74b-e710-4e71-9aa7-b352af4ada38",
   "metadata": {},
   "outputs": [
    {
     "ename": "error",
     "evalue": "video system not initialized",
     "output_type": "error",
     "traceback": [
      "\u001b[1;31m---------------------------------------------------------------------------\u001b[0m",
      "\u001b[1;31merror\u001b[0m                                     Traceback (most recent call last)",
      "Cell \u001b[1;32mIn[5], line 8\u001b[0m\n\u001b[0;32m      6\u001b[0m         pygame\u001b[38;5;241m.\u001b[39mquit()\n\u001b[0;32m      7\u001b[0m         sys\u001b[38;5;241m.\u001b[39mexit\n\u001b[1;32m----> 8\u001b[0m \u001b[43mpygame\u001b[49m\u001b[38;5;241;43m.\u001b[39;49m\u001b[43mdisplay\u001b[49m\u001b[38;5;241;43m.\u001b[39;49m\u001b[43mupdate\u001b[49m\u001b[43m(\u001b[49m\u001b[43m)\u001b[49m\n",
      "\u001b[1;31merror\u001b[0m: video system not initialized"
     ]
    }
   ],
   "source": [
    "\n",
    "while True:\n",
    "    pygame.draw.rect(DISPLAYSURF,GREEN,(50,50,100,100))\n",
    "    pygame.draw.circle(DISPLAYSURF,BLUE,(150,150),50)\n",
    "    for event in pygame.event.get():#phải có để có thể đóng ko bị lặp vô tận\n",
    "        if event.type==QUIT:\n",
    "            pygame.quit()\n",
    "            sys.exit\n",
    "    pygame.display.update()"
   ]
  },
  {
   "cell_type": "code",
   "execution_count": null,
   "id": "a842b122-a5e8-4f0e-b868-1e9425a3c835",
   "metadata": {},
   "outputs": [],
   "source": []
  }
 ],
 "metadata": {
  "kernelspec": {
   "display_name": "Python 3 (ipykernel)",
   "language": "python",
   "name": "python3"
  },
  "language_info": {
   "codemirror_mode": {
    "name": "ipython",
    "version": 3
   },
   "file_extension": ".py",
   "mimetype": "text/x-python",
   "name": "python",
   "nbconvert_exporter": "python",
   "pygments_lexer": "ipython3",
   "version": "3.11.0"
  }
 },
 "nbformat": 4,
 "nbformat_minor": 5
}
