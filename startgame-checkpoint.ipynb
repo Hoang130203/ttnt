{
 "cells": [
  {
   "cell_type": "code",
   "execution_count": 1,
   "id": "0f0bb530-b95e-4018-9fb4-a89d97f1f44f",
   "metadata": {},
   "outputs": [
    {
     "name": "stdout",
     "output_type": "stream",
     "text": [
      "importing Jupyter notebook from CaroLayout.ipynb\n",
      "pygame 2.5.2 (SDL 2.28.3, Python 3.11.0)\n",
      "Hello from the pygame community. https://www.pygame.org/contribute.html\n"
     ]
    }
   ],
   "source": [
    "import import_ipynb\n",
    "from CaroLayout import *"
   ]
  },
  {
   "cell_type": "code",
   "execution_count": 2,
   "id": "3b4f1d90-a302-46ce-8f15-288827741f09",
   "metadata": {},
   "outputs": [],
   "source": [
    "import pygame, itertools\n",
    "import sys\n",
    "from pygame.locals import QUIT, MOUSEBUTTONUP\n",
    "import random, os"
   ]
  },
  {
   "cell_type": "code",
   "execution_count": null,
   "id": "9a3c3663-e4b0-4dde-97ad-d58ee7d73d99",
   "metadata": {},
   "outputs": [],
   "source": [
    "pygame.init()\n",
    "clock = pygame.time.Clock()\n",
    "board=Board(grid_size=30)\n",
    "while True:\n",
    "    for event in pygame.event.get():\n",
    "        if event.type==QUIT || board.end==True:\n",
    "            pygame.quit()\n",
    "            sys.exit\n",
    "        elif event.type==MOUSEBUTTONUP:\n",
    "            x,y=event.pos\n",
    "            board.handleClick(x,y)\n",
    "    pygame.display.update()\n",
    "    clock.tick(60)"
   ]
  },
  {
   "cell_type": "code",
   "execution_count": null,
   "id": "110afca2-6a4d-4b10-8b3e-1b58e7af3da3",
   "metadata": {},
   "outputs": [],
   "source": []
  },
  {
   "cell_type": "code",
   "execution_count": null,
   "id": "62f16ffd-c58c-4484-b3c3-999987e5ef15",
   "metadata": {},
   "outputs": [],
   "source": []
  }
 ],
 "metadata": {
  "kernelspec": {
   "display_name": "Python 3 (ipykernel)",
   "language": "python",
   "name": "python3"
  },
  "language_info": {
   "codemirror_mode": {
    "name": "ipython",
    "version": 3
   },
   "file_extension": ".py",
   "mimetype": "text/x-python",
   "name": "python",
   "nbconvert_exporter": "python",
   "pygments_lexer": "ipython3",
   "version": "3.11.0"
  }
 },
 "nbformat": 4,
 "nbformat_minor": 5
}
